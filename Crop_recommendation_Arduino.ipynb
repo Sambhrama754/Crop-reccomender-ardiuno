{
  "cells": [
    {
      "cell_type": "markdown",
      "metadata": {
        "id": "view-in-github",
        "colab_type": "text"
      },
      "source": [
        "<a href=\"https://colab.research.google.com/github/Sambhrama754/Crop-reccomender-ardiuno/blob/main/Crop_recommendation_Arduino.ipynb\" target=\"_parent\"><img src=\"https://colab.research.google.com/assets/colab-badge.svg\" alt=\"Open In Colab\"/></a>"
      ]
    },
    {
      "cell_type": "code",
      "execution_count": null,
      "metadata": {
        "colab": {
          "base_uri": "https://localhost:8080/"
        },
        "id": "oTHlS0dYvKz4",
        "outputId": "bad5b588-be0b-4487-9bd6-bb0552d61bb1"
      },
      "outputs": [
        {
          "name": "stdout",
          "output_type": "stream",
          "text": [
            "Looking in indexes: https://pypi.org/simple, https://us-python.pkg.dev/colab-wheels/public/simple/\n",
            "Requirement already satisfied: micromlgen in /usr/local/lib/python3.7/dist-packages (1.1.28)\n",
            "Requirement already satisfied: jinja2 in /usr/local/lib/python3.7/dist-packages (from micromlgen) (2.11.3)\n",
            "Requirement already satisfied: MarkupSafe>=0.23 in /usr/local/lib/python3.7/dist-packages (from jinja2->micromlgen) (2.0.1)\n"
          ]
        }
      ],
      "source": [
        "pip install micromlgen --upgrade"
      ]
    },
    {
      "cell_type": "code",
      "execution_count": null,
      "metadata": {
        "colab": {
          "base_uri": "https://localhost:8080/"
        },
        "id": "JkbMvrJsfV5F",
        "outputId": "6e9c673f-4742-457c-a6f4-539d35fc9228"
      },
      "outputs": [
        {
          "name": "stdout",
          "output_type": "stream",
          "text": [
            "Training Accuracy Score: 95.6%\n",
            "Validation Accuracy Score: 95.9%\n",
            "              precision    recall  f1-score   support\n",
            "\n",
            "       apple       1.00      1.00      1.00        38\n",
            "      banana       1.00      1.00      1.00        38\n",
            "   blackgram       0.83      0.90      0.86        39\n",
            "    chickpea       1.00      1.00      1.00        40\n",
            "     coconut       1.00      0.97      0.99        36\n",
            "      coffee       1.00      1.00      1.00        38\n",
            "      cotton       0.95      1.00      0.97        35\n",
            "      grapes       1.00      1.00      1.00        36\n",
            "        jute       0.78      0.83      0.81        35\n",
            " kidneybeans       1.00      1.00      1.00        36\n",
            "      lentil       0.81      0.91      0.86        33\n",
            "       maize       1.00      0.95      0.97        38\n",
            "       mango       1.00      1.00      1.00        32\n",
            "   mothbeans       1.00      0.91      0.95        43\n",
            "    mungbean       1.00      1.00      1.00        33\n",
            "   muskmelon       1.00      1.00      1.00        38\n",
            "      orange       1.00      1.00      1.00        41\n",
            "      papaya       1.00      1.00      1.00        48\n",
            "  pigeonpeas       0.91      0.83      0.87        36\n",
            " pomegranate       0.98      1.00      0.99        45\n",
            "        rice       0.86      0.82      0.84        44\n",
            "  watermelon       1.00      1.00      1.00        34\n",
            "\n",
            "    accuracy                           0.96       836\n",
            "   macro avg       0.96      0.96      0.96       836\n",
            "weighted avg       0.96      0.96      0.96       836\n",
            "\n"
          ]
        }
      ],
      "source": [
        "import pandas as pd\n",
        "import pandas_profiling as pp\n",
        "import numpy as np\n",
        "import matplotlib.pyplot as plt\n",
        "import warnings\n",
        "import os\n",
        "import pickle\n",
        "from sklearn.utils import resample\n",
        "# Metrics\n",
        "from sklearn.metrics import accuracy_score, classification_report, confusion_matrix, auc, roc_curve\n",
        "\n",
        "# Validation\n",
        "from sklearn.model_selection import train_test_split, cross_val_score, KFold\n",
        "\n",
        "# Preprocessing\n",
        "from sklearn.preprocessing import LabelEncoder\n",
        "from sklearn.naive_bayes import GaussianNB\n",
        "\n",
        "warnings.filterwarnings('ignore')\n",
        "################################################################################\n",
        "#                                                                              #\n",
        "#                Split Data to Training and Validation set                     #\n",
        "#                                                                              #\n",
        "################################################################################\n",
        "def read_in_and_split_data(data, target):\n",
        "    X = data.drop(target, axis=1)\n",
        "    y = data[target]\n",
        "    X_train, X_test, y_train, y_test = train_test_split(X,y,test_size=0.38, random_state=0)\n",
        "    return X_train, X_test, y_train, y_test\n",
        "\n",
        "################################################################################\n",
        "#                                                                              #\n",
        "#                           Train Model                                        #\n",
        "#                                                                              #\n",
        "################################################################################\n",
        "def fit_model(X_train, y_train,models):\n",
        "    # Test options and evaluation metric\n",
        "    num_folds = 10\n",
        "    scoring = 'accuracy'\n",
        "\n",
        "    results = []\n",
        "    names = []\n",
        "    for name, model in models:\n",
        "        kfold = KFold(n_splits=num_folds, shuffle=True, random_state=0)\n",
        "        cv_results = cross_val_score(model, X_train, y_train, cv=kfold, scoring=scoring)\n",
        "        results.append(cv_results)\n",
        "        names.append(name)\n",
        "        msg = \"%s: %f (%f)\" % (name, cv_results.mean(), cv_results.std())\n",
        "        print(msg)\n",
        "        \n",
        "    return names, results\n",
        "################################################################################\n",
        "#                                                                              #\n",
        "#                          Save Trained Model                                  #\n",
        "#                                                                              #\n",
        "################################################################################\n",
        "def save_model(model,filename):\n",
        "    pickle.dump(model, open(filename, 'wb'))\n",
        "################################################################################\n",
        "#                                                                              #\n",
        "#                          Performance Measure                                 #\n",
        "#                                                                              #\n",
        "################################################################################\n",
        "def classification_metrics(model, conf_matrix):\n",
        "    print(f\"Training Accuracy Score: {model.score(X_train, y_train) * 100:.1f}%\")\n",
        "    print(f\"Validation Accuracy Score: {model.score(X_test, y_test) * 100:.1f}%\")\n",
        "    print(classification_report(y_test, y_pred))\n",
        "    \n",
        "\n",
        "# Load Dataset\n",
        "df = pd.read_csv('https://raw.githubusercontent.com/Sambhrama754/Crop-reccomender-ardiuno/main/Crop_recommendation.csv')\n",
        "# Remove Outliers\n",
        "Q1 = df.quantile(0.25)\n",
        "Q3 = df.quantile(0.75)\n",
        "IQR = Q3 - Q1\n",
        "df_out = df[~((df < (Q1 - 1.5 * IQR)) |(df > (Q3 + 1.5 * IQR))).any(axis=1)]\n",
        "\n",
        "# Split Data to Training and Validation set\n",
        "target ='label'\n",
        "X_train, X_test, y_train, y_test = read_in_and_split_data(df, target)\n",
        "\n",
        "# Train model\n",
        "Algo = GaussianNB()\n",
        "model = Algo.fit(X_train, y_train)\n",
        "y_pred = model.predict(X_test)\n",
        "conf_matrix = confusion_matrix(y_test,y_pred)\n",
        "classification_metrics(Algo, conf_matrix)\n",
        "\n",
        "# save model\n",
        "save_model(model, 'model.pkl')"
      ]
    },
    {
      "cell_type": "code",
      "execution_count": null,
      "metadata": {
        "colab": {
          "background_save": true
        },
        "id": "JfOrEvQEqJDf"
      },
      "outputs": [],
      "source": [
        "classmapdat = {\n",
        "     0: \"Apple\",\n",
        "     1: \"Banana\",\n",
        "     2: \"Blackgram\",\n",
        "     3: \"Chickpea\",\n",
        "     4: \"Coconut\",\n",
        "     5: \"Coffee\",\n",
        "     6: \"Cotton\",\n",
        "     7: \"Grapes\",\n",
        "     8: \"Jute\",\n",
        "     9: \"Kidneybean\",\n",
        "     10: \"Lentil\",\n",
        "     11: \"Maize\",\n",
        "     12: \"Mango\",\n",
        "     13: \"Mothbean\",\n",
        "     14: \"Mungbean\",\n",
        "     15: \"Muskmelon\",\n",
        "     16: \"Orange\",\n",
        "     17: \"Papaya\",\n",
        "     18: \"Pigeonpeas\",\n",
        "     19: \"Pomegranate\",\n",
        "     20: \"Rice\",\n",
        "     21: \"Watermelon\"\n",
        "}"
      ]
    },
    {
      "cell_type": "code",
      "execution_count": null,
      "metadata": {
        "id": "IcsgdifoBIgl"
      },
      "outputs": [],
      "source": [
        "from micromlgen import port\n",
        "Code = port(model, classmap=classmapdat)"
      ]
    },
    {
      "cell_type": "code",
      "execution_count": null,
      "metadata": {
        "id": "pQYHDiLUYWMm"
      },
      "outputs": [],
      "source": [
        "print(Code)"
      ]
    },
    {
      "cell_type": "code",
      "execution_count": null,
      "metadata": {
        "id": "xzt_-pLBDr4A"
      },
      "outputs": [],
      "source": [
        "import pickle\n",
        "with open('model.h', 'wb') as f:\n",
        "    pickle.dump(Code,f)"
      ]
    }
  ],
  "metadata": {
    "colab": {
      "collapsed_sections": [],
      "name": " Crop recommendation Arduino.ipynb",
      "provenance": [],
      "authorship_tag": "ABX9TyMwO9rY/uDtJnOtn2UBTgur",
      "include_colab_link": true
    },
    "gpuClass": "standard",
    "kernelspec": {
      "display_name": "Python 3",
      "name": "python3"
    },
    "language_info": {
      "name": "python"
    }
  },
  "nbformat": 4,
  "nbformat_minor": 0
}